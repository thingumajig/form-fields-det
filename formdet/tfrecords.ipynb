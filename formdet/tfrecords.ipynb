{
 "cells": [
  {
   "cell_type": "code",
   "execution_count": 1,
   "metadata": {},
   "outputs": [],
   "source": [
    "import utils.generate_tfrecord\n",
    "from utils.generate_tfrecord import dataset_description_iter, FormDetReader\n",
    "\n",
    "from pathlib import Path"
   ]
  },
  {
   "cell_type": "code",
   "execution_count": 3,
   "metadata": {},
   "outputs": [
    {
     "data": {
      "text/plain": [
       "PosixPath('/root/objectdet-check')"
      ]
     },
     "execution_count": 3,
     "metadata": {},
     "output_type": "execute_result"
    }
   ],
   "source": [
    "Path.cwd().parent"
   ]
  },
  {
   "cell_type": "code",
   "execution_count": 4,
   "metadata": {},
   "outputs": [
    {
     "data": {
      "text/plain": [
       "18038"
      ]
     },
     "execution_count": 4,
     "metadata": {},
     "output_type": "execute_result"
    }
   ],
   "source": [
    "# for json_file, image_file in dataset_description_iter(Path.cwd().parent / 'data'):\n",
    "#     print(f'{json_file} -- {image_file}')\n",
    "\n",
    "# fl = list(dataset_description_iter(Path.cwd().parent / 'bigdat'))\n",
    "fl = list(dataset_description_iter(Path.cwd().parent / 'data'))\n",
    "\n",
    "len(fl)"
   ]
  },
  {
   "cell_type": "code",
   "execution_count": 5,
   "metadata": {},
   "outputs": [],
   "source": [
    "default_classes_index = {\n",
    "    b'text':      1,\n",
    "    b'checkmark': 2,\n",
    "    b'radio':     3,\n",
    "    b'date':      4,\n",
    "    b'signature': 5,\n",
    "    b'number':    6,\n",
    "    b'cells':     7,\n",
    "    b'unknown':   8,\n",
    "}"
   ]
  },
  {
   "cell_type": "code",
   "execution_count": 6,
   "metadata": {},
   "outputs": [],
   "source": [
    "r = FormDetReader(Path.cwd().parent / 'data', exclude_cats={'image', 'dropdown'}, default_classes_dict=default_classes_index)\n",
    "# r = FormDetReader(Path.cwd().parent / 'bigdat', exclude_cats={})"
   ]
  },
  {
   "cell_type": "code",
   "execution_count": 7,
   "metadata": {},
   "outputs": [],
   "source": [
    "r.create_index(Path.cwd().parent / 'forms.tfrecords')"
   ]
  },
  {
   "cell_type": "code",
   "execution_count": 8,
   "metadata": {},
   "outputs": [
    {
     "data": {
      "text/plain": [
       "390"
      ]
     },
     "execution_count": 8,
     "metadata": {},
     "output_type": "execute_result"
    }
   ],
   "source": [
    "r.stat_max_fields_in_file"
   ]
  },
  {
   "cell_type": "code",
   "execution_count": 16,
   "metadata": {},
   "outputs": [
    {
     "data": {
      "text/plain": [
       "Counter({'radio': 173755,\n",
       "         'text': 1221994,\n",
       "         'checkmark': 202315,\n",
       "         'date': 4531,\n",
       "         'signature': 5137,\n",
       "         'number': 4458,\n",
       "         'unknown': 1798,\n",
       "         'cells': 17988})"
      ]
     },
     "execution_count": 16,
     "metadata": {},
     "output_type": "execute_result"
    }
   ],
   "source": [
    "r.category_stat"
   ]
  },
  {
   "cell_type": "code",
   "execution_count": 18,
   "metadata": {},
   "outputs": [
    {
     "data": {
      "text/plain": [
       "{b'text': 1,\n",
       " b'checkmark': 2,\n",
       " b'radio': 3,\n",
       " b'date': 4,\n",
       " b'signature': 5,\n",
       " b'number': 6,\n",
       " b'cells': 7,\n",
       " b'unknown': 8}"
      ]
     },
     "execution_count": 18,
     "metadata": {},
     "output_type": "execute_result"
    }
   ],
   "source": [
    "r.classes_dict"
   ]
  },
  {
   "cell_type": "code",
   "execution_count": 19,
   "metadata": {},
   "outputs": [
    {
     "name": "stdout",
     "output_type": "stream",
     "text": [
      "item {\n",
      "\tid:1\n",
      "\tname: 'text'\n",
      "}\n",
      "\n",
      "item {\n",
      "\tid:2\n",
      "\tname: 'checkmark'\n",
      "}\n",
      "\n",
      "item {\n",
      "\tid:3\n",
      "\tname: 'radio'\n",
      "}\n",
      "\n",
      "item {\n",
      "\tid:4\n",
      "\tname: 'date'\n",
      "}\n",
      "\n",
      "item {\n",
      "\tid:5\n",
      "\tname: 'signature'\n",
      "}\n",
      "\n",
      "item {\n",
      "\tid:6\n",
      "\tname: 'number'\n",
      "}\n",
      "\n",
      "item {\n",
      "\tid:7\n",
      "\tname: 'cells'\n",
      "}\n",
      "\n",
      "item {\n",
      "\tid:8\n",
      "\tname: 'unknown'\n",
      "}\n",
      "\n"
     ]
    }
   ],
   "source": [
    "for k, v in r.classes_dict.items():\n",
    "    print(f\"item {{\\n\\tid:{v}\\n\\tname: '{k.decode('utf8')}'\\n}}\\n\")"
   ]
  },
  {
   "cell_type": "code",
   "execution_count": 20,
   "metadata": {},
   "outputs": [
    {
     "name": "stdout",
     "output_type": "stream",
     "text": [
      "labels saved.\n"
     ]
    }
   ],
   "source": [
    "r.create_label_map(Path.cwd().parent / 'label_map2.pbtxt')\n",
    "print('labels saved.')"
   ]
  },
  {
   "cell_type": "code",
   "execution_count": 13,
   "metadata": {},
   "outputs": [
    {
     "name": "stdout",
     "output_type": "stream",
     "text": [
      "Num GPUs Available:  2\n",
      "Default GPU Device: /device:GPU:0\n"
     ]
    }
   ],
   "source": [
    "import tensorflow as tf\n",
    "tf.debugging.set_log_device_placement(True)\n",
    "print(\"Num GPUs Available: \", len(tf.config.experimental.list_physical_devices('GPU')))\n",
    "if tf.test.gpu_device_name():\n",
    "    print('Default GPU Device: {}'.format(tf.test.gpu_device_name()))\n",
    "else:\n",
    "    print(\"Please install GPU version of TF\")"
   ]
  },
  {
   "cell_type": "code",
   "execution_count": 14,
   "metadata": {},
   "outputs": [
    {
     "name": "stdout",
     "output_type": "stream",
     "text": [
      "Thu Mar 18 00:14:04 2021       \n",
      "+-----------------------------------------------------------------------------+\n",
      "| NVIDIA-SMI 455.45.01    Driver Version: 455.45.01    CUDA Version: 11.1     |\n",
      "|-------------------------------+----------------------+----------------------+\n",
      "| GPU  Name        Persistence-M| Bus-Id        Disp.A | Volatile Uncorr. ECC |\n",
      "| Fan  Temp  Perf  Pwr:Usage/Cap|         Memory-Usage | GPU-Util  Compute M. |\n",
      "|                               |                      |               MIG M. |\n",
      "|===============================+======================+======================|\n",
      "|   0  Tesla V100-PCIE...  On   | 00000000:AF:00.0 Off |                    0 |\n",
      "| N/A   30C    P0    36W / 250W |    459MiB / 32510MiB |      0%      Default |\n",
      "|                               |                      |                  N/A |\n",
      "+-------------------------------+----------------------+----------------------+\n",
      "|   1  Tesla V100-PCIE...  On   | 00000000:D8:00.0 Off |                    0 |\n",
      "| N/A   30C    P0    37W / 250W |    459MiB / 32510MiB |      0%      Default |\n",
      "|                               |                      |                  N/A |\n",
      "+-------------------------------+----------------------+----------------------+\n",
      "                                                                               \n",
      "+-----------------------------------------------------------------------------+\n",
      "| Processes:                                                                  |\n",
      "|  GPU   GI   CI        PID   Type   Process name                  GPU Memory |\n",
      "|        ID   ID                                                   Usage      |\n",
      "|=============================================================================|\n",
      "|    0   N/A  N/A      2325      C   ...et-check/.venv/bin/python      455MiB |\n",
      "|    1   N/A  N/A      2325      C   ...et-check/.venv/bin/python      455MiB |\n",
      "+-----------------------------------------------------------------------------+\n"
     ]
    }
   ],
   "source": [
    "!nvidia-smi"
   ]
  },
  {
   "cell_type": "code",
   "execution_count": 1,
   "metadata": {},
   "outputs": [
    {
     "name": "stdout",
     "output_type": "stream",
     "text": [
      "Collecting streamlit\n",
      "  Downloading streamlit-0.81.1-py2.py3-none-any.whl (8.2 MB)\n",
      "\u001b[K     |################################| 8.2 MB 9.8 MB/s eta 0:00:01\n",
      "\u001b[?25hRequirement already satisfied: pandas>=0.21.0 in /root/objectdet-check/.venv/lib/python3.6/site-packages (from streamlit) (1.1.5)\n",
      "Collecting tzlocal\n",
      "  Using cached tzlocal-2.1-py2.py3-none-any.whl (16 kB)\n",
      "Requirement already satisfied: protobuf!=3.11,>=3.6.0 in /root/objectdet-check/.venv/lib/python3.6/site-packages (from streamlit) (3.14.0)\n",
      "Requirement already satisfied: numpy in /root/objectdet-check/.venv/lib/python3.6/site-packages (from streamlit) (1.19.4)\n",
      "Requirement already satisfied: tornado>=5.0 in /root/objectdet-check/.venv/lib/python3.6/site-packages (from streamlit) (6.1)\n",
      "Collecting pydeck>=0.1.dev5\n",
      "  Downloading pydeck-0.6.2-py2.py3-none-any.whl (4.2 MB)\n",
      "\u001b[K     |################################| 4.2 MB 42.1 MB/s eta 0:00:01\n",
      "\u001b[?25hCollecting altair>=3.2.0\n",
      "  Using cached altair-4.1.0-py3-none-any.whl (727 kB)\n",
      "Collecting validators\n",
      "  Downloading validators-0.18.2-py3-none-any.whl (19 kB)\n",
      "Collecting toml\n",
      "  Using cached toml-0.10.2-py2.py3-none-any.whl (16 kB)\n",
      "Collecting blinker\n",
      "  Using cached blinker-1.4-py3-none-any.whl\n",
      "Collecting gitpython\n",
      "  Downloading GitPython-3.1.16-py3-none-any.whl (166 kB)\n",
      "\u001b[K     |################################| 166 kB 47.3 MB/s eta 0:00:01\n",
      "\u001b[?25hRequirement already satisfied: pillow>=6.2.0 in /root/objectdet-check/.venv/lib/python3.6/site-packages (from streamlit) (8.0.1)\n",
      "Requirement already satisfied: requests in /root/objectdet-check/.venv/lib/python3.6/site-packages (from streamlit) (2.25.1)\n",
      "Collecting watchdog\n",
      "  Downloading watchdog-2.1.1-py3-none-manylinux2014_x86_64.whl (74 kB)\n",
      "\u001b[K     |################################| 74 kB 7.6 MB/s  eta 0:00:01\n",
      "\u001b[?25hCollecting astor\n",
      "  Using cached astor-0.8.1-py2.py3-none-any.whl (27 kB)\n",
      "Requirement already satisfied: cachetools>=4.0 in /root/objectdet-check/.venv/lib/python3.6/site-packages (from streamlit) (4.2.0)\n",
      "Requirement already satisfied: python-dateutil in /root/objectdet-check/.venv/lib/python3.6/site-packages (from streamlit) (2.8.1)\n",
      "Collecting click>=7.0\n",
      "  Downloading click-8.0.0-py3-none-any.whl (96 kB)\n",
      "\u001b[K     |################################| 96 kB 12.6 MB/s eta 0:00:01\n",
      "\u001b[?25hRequirement already satisfied: pyarrow in /root/objectdet-check/.venv/lib/python3.6/site-packages (from streamlit) (0.17.1)\n",
      "Requirement already satisfied: packaging in /root/objectdet-check/.venv/lib/python3.6/site-packages (from streamlit) (20.8)\n",
      "Collecting base58\n",
      "  Downloading base58-2.1.0-py3-none-any.whl (5.6 kB)\n",
      "Collecting toolz\n",
      "  Using cached toolz-0.11.1-py3-none-any.whl (55 kB)\n",
      "Requirement already satisfied: jsonschema in /root/objectdet-check/.venv/lib/python3.6/site-packages (from altair>=3.2.0->streamlit) (3.2.0)\n",
      "Requirement already satisfied: entrypoints in /root/objectdet-check/.venv/lib/python3.6/site-packages (from altair>=3.2.0->streamlit) (0.3)\n",
      "Requirement already satisfied: jinja2 in /root/objectdet-check/.venv/lib/python3.6/site-packages (from altair>=3.2.0->streamlit) (2.11.2)\n",
      "Requirement already satisfied: pytz>=2017.2 in /root/objectdet-check/.venv/lib/python3.6/site-packages (from pandas>=0.21.0->streamlit) (2020.5)\n",
      "Requirement already satisfied: six>=1.9 in /root/objectdet-check/.venv/lib/python3.6/site-packages (from protobuf!=3.11,>=3.6.0->streamlit) (1.15.0)\n",
      "Requirement already satisfied: ipywidgets>=7.0.0 in /root/objectdet-check/.venv/lib/python3.6/site-packages (from pydeck>=0.1.dev5->streamlit) (7.6.2)\n",
      "Requirement already satisfied: traitlets>=4.3.2 in /root/objectdet-check/.venv/lib/python3.6/site-packages (from pydeck>=0.1.dev5->streamlit) (4.3.3)\n",
      "Requirement already satisfied: ipykernel>=5.1.2 in /root/objectdet-check/.venv/lib/python3.6/site-packages (from pydeck>=0.1.dev5->streamlit) (5.4.2)\n",
      "Requirement already satisfied: jupyter-client in /root/objectdet-check/.venv/lib/python3.6/site-packages (from ipykernel>=5.1.2->pydeck>=0.1.dev5->streamlit) (6.1.7)\n",
      "Requirement already satisfied: ipython>=5.0.0 in /root/objectdet-check/.venv/lib/python3.6/site-packages (from ipykernel>=5.1.2->pydeck>=0.1.dev5->streamlit) (7.16.1)\n",
      "Requirement already satisfied: decorator in /root/objectdet-check/.venv/lib/python3.6/site-packages (from ipython>=5.0.0->ipykernel>=5.1.2->pydeck>=0.1.dev5->streamlit) (4.4.2)\n",
      "Requirement already satisfied: pexpect in /root/objectdet-check/.venv/lib/python3.6/site-packages (from ipython>=5.0.0->ipykernel>=5.1.2->pydeck>=0.1.dev5->streamlit) (4.8.0)\n",
      "Requirement already satisfied: jedi>=0.10 in /root/objectdet-check/.venv/lib/python3.6/site-packages (from ipython>=5.0.0->ipykernel>=5.1.2->pydeck>=0.1.dev5->streamlit) (0.17.2)\n",
      "Requirement already satisfied: pickleshare in /root/objectdet-check/.venv/lib/python3.6/site-packages (from ipython>=5.0.0->ipykernel>=5.1.2->pydeck>=0.1.dev5->streamlit) (0.7.5)\n",
      "Requirement already satisfied: backcall in /root/objectdet-check/.venv/lib/python3.6/site-packages (from ipython>=5.0.0->ipykernel>=5.1.2->pydeck>=0.1.dev5->streamlit) (0.2.0)\n",
      "Requirement already satisfied: pygments in /root/objectdet-check/.venv/lib/python3.6/site-packages (from ipython>=5.0.0->ipykernel>=5.1.2->pydeck>=0.1.dev5->streamlit) (2.7.3)\n",
      "Requirement already satisfied: setuptools>=18.5 in /root/objectdet-check/.venv/lib/python3.6/site-packages (from ipython>=5.0.0->ipykernel>=5.1.2->pydeck>=0.1.dev5->streamlit) (50.3.2)\n",
      "Requirement already satisfied: prompt-toolkit!=3.0.0,!=3.0.1,<3.1.0,>=2.0.0 in /root/objectdet-check/.venv/lib/python3.6/site-packages (from ipython>=5.0.0->ipykernel>=5.1.2->pydeck>=0.1.dev5->streamlit) (3.0.8)\n",
      "Requirement already satisfied: nbformat>=4.2.0 in /root/objectdet-check/.venv/lib/python3.6/site-packages (from ipywidgets>=7.0.0->pydeck>=0.1.dev5->streamlit) (5.0.8)\n",
      "Requirement already satisfied: jupyterlab-widgets>=1.0.0 in /root/objectdet-check/.venv/lib/python3.6/site-packages (from ipywidgets>=7.0.0->pydeck>=0.1.dev5->streamlit) (1.0.0)\n",
      "Requirement already satisfied: widgetsnbextension~=3.5.0 in /root/objectdet-check/.venv/lib/python3.6/site-packages (from ipywidgets>=7.0.0->pydeck>=0.1.dev5->streamlit) (3.5.1)\n",
      "Requirement already satisfied: parso<0.8.0,>=0.7.0 in /root/objectdet-check/.venv/lib/python3.6/site-packages (from jedi>=0.10->ipython>=5.0.0->ipykernel>=5.1.2->pydeck>=0.1.dev5->streamlit) (0.7.1)\n",
      "Requirement already satisfied: MarkupSafe>=0.23 in /root/objectdet-check/.venv/lib/python3.6/site-packages (from jinja2->altair>=3.2.0->streamlit) (1.1.1)\n",
      "Requirement already satisfied: jupyter-core in /root/objectdet-check/.venv/lib/python3.6/site-packages (from nbformat>=4.2.0->ipywidgets>=7.0.0->pydeck>=0.1.dev5->streamlit) (4.7.0)\n",
      "Requirement already satisfied: ipython-genutils in /root/objectdet-check/.venv/lib/python3.6/site-packages (from nbformat>=4.2.0->ipywidgets>=7.0.0->pydeck>=0.1.dev5->streamlit) (0.2.0)\n",
      "Requirement already satisfied: attrs>=17.4.0 in /root/objectdet-check/.venv/lib/python3.6/site-packages (from jsonschema->altair>=3.2.0->streamlit) (20.3.0)\n",
      "Requirement already satisfied: pyrsistent>=0.14.0 in /root/objectdet-check/.venv/lib/python3.6/site-packages (from jsonschema->altair>=3.2.0->streamlit) (0.17.3)\n",
      "Requirement already satisfied: importlib-metadata in /root/objectdet-check/.venv/lib/python3.6/site-packages (from jsonschema->altair>=3.2.0->streamlit) (3.3.0)\n",
      "Requirement already satisfied: wcwidth in /root/objectdet-check/.venv/lib/python3.6/site-packages (from prompt-toolkit!=3.0.0,!=3.0.1,<3.1.0,>=2.0.0->ipython>=5.0.0->ipykernel>=5.1.2->pydeck>=0.1.dev5->streamlit) (0.2.5)\n",
      "Requirement already satisfied: notebook>=4.4.1 in /root/objectdet-check/.venv/lib/python3.6/site-packages (from widgetsnbextension~=3.5.0->ipywidgets>=7.0.0->pydeck>=0.1.dev5->streamlit) (6.1.6)\n",
      "Requirement already satisfied: pyzmq>=17 in /root/objectdet-check/.venv/lib/python3.6/site-packages (from notebook>=4.4.1->widgetsnbextension~=3.5.0->ipywidgets>=7.0.0->pydeck>=0.1.dev5->streamlit) (20.0.0)\n",
      "Requirement already satisfied: nbconvert in /root/objectdet-check/.venv/lib/python3.6/site-packages (from notebook>=4.4.1->widgetsnbextension~=3.5.0->ipywidgets>=7.0.0->pydeck>=0.1.dev5->streamlit) (6.0.7)\n",
      "Requirement already satisfied: prometheus-client in /root/objectdet-check/.venv/lib/python3.6/site-packages (from notebook>=4.4.1->widgetsnbextension~=3.5.0->ipywidgets>=7.0.0->pydeck>=0.1.dev5->streamlit) (0.9.0)\n",
      "Requirement already satisfied: argon2-cffi in /root/objectdet-check/.venv/lib/python3.6/site-packages (from notebook>=4.4.1->widgetsnbextension~=3.5.0->ipywidgets>=7.0.0->pydeck>=0.1.dev5->streamlit) (20.1.0)\n",
      "Requirement already satisfied: Send2Trash in /root/objectdet-check/.venv/lib/python3.6/site-packages (from notebook>=4.4.1->widgetsnbextension~=3.5.0->ipywidgets>=7.0.0->pydeck>=0.1.dev5->streamlit) (1.5.0)\n",
      "Requirement already satisfied: terminado>=0.8.3 in /root/objectdet-check/.venv/lib/python3.6/site-packages (from notebook>=4.4.1->widgetsnbextension~=3.5.0->ipywidgets>=7.0.0->pydeck>=0.1.dev5->streamlit) (0.9.1)\n",
      "Requirement already satisfied: ptyprocess in /root/objectdet-check/.venv/lib/python3.6/site-packages (from terminado>=0.8.3->notebook>=4.4.1->widgetsnbextension~=3.5.0->ipywidgets>=7.0.0->pydeck>=0.1.dev5->streamlit) (0.6.0)\n",
      "Requirement already satisfied: cffi>=1.0.0 in /root/objectdet-check/.venv/lib/python3.6/site-packages (from argon2-cffi->notebook>=4.4.1->widgetsnbextension~=3.5.0->ipywidgets>=7.0.0->pydeck>=0.1.dev5->streamlit) (1.14.4)\n",
      "Requirement already satisfied: pycparser in /root/objectdet-check/.venv/lib/python3.6/site-packages (from cffi>=1.0.0->argon2-cffi->notebook>=4.4.1->widgetsnbextension~=3.5.0->ipywidgets>=7.0.0->pydeck>=0.1.dev5->streamlit) (2.20)\n",
      "Requirement already satisfied: typing-extensions>=3.7.4.0 in /root/objectdet-check/.venv/lib/python3.6/site-packages (from gitpython->streamlit) (3.7.4.3)\n",
      "Collecting gitdb<5,>=4.0.1\n",
      "  Downloading gitdb-4.0.7-py3-none-any.whl (63 kB)\n",
      "\u001b[K     |################################| 63 kB 3.9 MB/s  eta 0:00:01\n",
      "\u001b[?25hCollecting smmap<5,>=3.0.1\n",
      "  Downloading smmap-4.0.0-py2.py3-none-any.whl (24 kB)\n",
      "Requirement already satisfied: zipp>=0.5 in /root/objectdet-check/.venv/lib/python3.6/site-packages (from importlib-metadata->jsonschema->altair>=3.2.0->streamlit) (3.4.0)\n",
      "Requirement already satisfied: jupyterlab-pygments in /root/objectdet-check/.venv/lib/python3.6/site-packages (from nbconvert->notebook>=4.4.1->widgetsnbextension~=3.5.0->ipywidgets>=7.0.0->pydeck>=0.1.dev5->streamlit) (0.1.2)\n",
      "Requirement already satisfied: pandocfilters>=1.4.1 in /root/objectdet-check/.venv/lib/python3.6/site-packages (from nbconvert->notebook>=4.4.1->widgetsnbextension~=3.5.0->ipywidgets>=7.0.0->pydeck>=0.1.dev5->streamlit) (1.4.3)\n",
      "Requirement already satisfied: nbclient<0.6.0,>=0.5.0 in /root/objectdet-check/.venv/lib/python3.6/site-packages (from nbconvert->notebook>=4.4.1->widgetsnbextension~=3.5.0->ipywidgets>=7.0.0->pydeck>=0.1.dev5->streamlit) (0.5.1)\n",
      "Requirement already satisfied: defusedxml in /root/objectdet-check/.venv/lib/python3.6/site-packages (from nbconvert->notebook>=4.4.1->widgetsnbextension~=3.5.0->ipywidgets>=7.0.0->pydeck>=0.1.dev5->streamlit) (0.6.0)\n",
      "Requirement already satisfied: bleach in /root/objectdet-check/.venv/lib/python3.6/site-packages (from nbconvert->notebook>=4.4.1->widgetsnbextension~=3.5.0->ipywidgets>=7.0.0->pydeck>=0.1.dev5->streamlit) (3.2.1)\n",
      "Requirement already satisfied: mistune<2,>=0.8.1 in /root/objectdet-check/.venv/lib/python3.6/site-packages (from nbconvert->notebook>=4.4.1->widgetsnbextension~=3.5.0->ipywidgets>=7.0.0->pydeck>=0.1.dev5->streamlit) (0.8.4)\n",
      "Requirement already satisfied: testpath in /root/objectdet-check/.venv/lib/python3.6/site-packages (from nbconvert->notebook>=4.4.1->widgetsnbextension~=3.5.0->ipywidgets>=7.0.0->pydeck>=0.1.dev5->streamlit) (0.4.4)\n",
      "Requirement already satisfied: nest-asyncio in /root/objectdet-check/.venv/lib/python3.6/site-packages (from nbclient<0.6.0,>=0.5.0->nbconvert->notebook>=4.4.1->widgetsnbextension~=3.5.0->ipywidgets>=7.0.0->pydeck>=0.1.dev5->streamlit) (1.4.3)\n",
      "Requirement already satisfied: async-generator in /root/objectdet-check/.venv/lib/python3.6/site-packages (from nbclient<0.6.0,>=0.5.0->nbconvert->notebook>=4.4.1->widgetsnbextension~=3.5.0->ipywidgets>=7.0.0->pydeck>=0.1.dev5->streamlit) (1.10)\n",
      "Requirement already satisfied: webencodings in /root/objectdet-check/.venv/lib/python3.6/site-packages (from bleach->nbconvert->notebook>=4.4.1->widgetsnbextension~=3.5.0->ipywidgets>=7.0.0->pydeck>=0.1.dev5->streamlit) (0.5.1)\n",
      "Requirement already satisfied: pyparsing>=2.0.2 in /root/objectdet-check/.venv/lib/python3.6/site-packages (from packaging->streamlit) (2.4.7)\n",
      "Requirement already satisfied: certifi>=2017.4.17 in /root/objectdet-check/.venv/lib/python3.6/site-packages (from requests->streamlit) (2020.12.5)\n",
      "Requirement already satisfied: chardet<5,>=3.0.2 in /root/objectdet-check/.venv/lib/python3.6/site-packages (from requests->streamlit) (4.0.0)\n",
      "Requirement already satisfied: idna<3,>=2.5 in /root/objectdet-check/.venv/lib/python3.6/site-packages (from requests->streamlit) (2.10)\n",
      "Requirement already satisfied: urllib3<1.27,>=1.21.1 in /root/objectdet-check/.venv/lib/python3.6/site-packages (from requests->streamlit) (1.26.2)\n",
      "Installing collected packages: smmap, toolz, gitdb, watchdog, validators, tzlocal, toml, pydeck, gitpython, click, blinker, base58, astor, altair, streamlit\n",
      "Successfully installed altair-4.1.0 astor-0.8.1 base58-2.1.0 blinker-1.4 click-8.0.0 gitdb-4.0.7 gitpython-3.1.16 pydeck-0.6.2 smmap-4.0.0 streamlit-0.81.1 toml-0.10.2 toolz-0.11.1 tzlocal-2.1 validators-0.18.2 watchdog-2.1.1\n"
     ]
    }
   ],
   "source": [
    "!pip install streamlit"
   ]
  },
  {
   "cell_type": "code",
   "execution_count": null,
   "metadata": {},
   "outputs": [],
   "source": []
  }
 ],
 "metadata": {
  "kernelspec": {
   "display_name": "Python 3",
   "language": "python",
   "name": "python3"
  },
  "language_info": {
   "codemirror_mode": {
    "name": "ipython",
    "version": 3
   },
   "file_extension": ".py",
   "mimetype": "text/x-python",
   "name": "python",
   "nbconvert_exporter": "python",
   "pygments_lexer": "ipython3",
   "version": "3.6.9"
  }
 },
 "nbformat": 4,
 "nbformat_minor": 4
}
